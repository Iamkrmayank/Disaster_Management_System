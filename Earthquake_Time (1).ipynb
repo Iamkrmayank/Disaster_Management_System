{
 "cells": [
  {
   "cell_type": "code",
   "execution_count": 1,
   "id": "b86eeb5f",
   "metadata": {},
   "outputs": [],
   "source": [
    "import os\n",
    "import pandas as pd\n",
    "import numpy as np\n",
    "a = os.getcwd()"
   ]
  },
  {
   "cell_type": "code",
   "execution_count": 13,
   "id": "4b993ed2",
   "metadata": {},
   "outputs": [],
   "source": [
    "path = a +'/data/timeearthquake.csv'"
   ]
  },
  {
   "cell_type": "code",
   "execution_count": 14,
   "id": "edae409a",
   "metadata": {},
   "outputs": [],
   "source": [
    "df = pd.read_csv(path)"
   ]
  },
  {
   "cell_type": "code",
   "execution_count": 15,
   "id": "77178c60",
   "metadata": {},
   "outputs": [
    {
     "data": {
      "text/html": [
       "<div>\n",
       "<style scoped>\n",
       "    .dataframe tbody tr th:only-of-type {\n",
       "        vertical-align: middle;\n",
       "    }\n",
       "\n",
       "    .dataframe tbody tr th {\n",
       "        vertical-align: top;\n",
       "    }\n",
       "\n",
       "    .dataframe thead th {\n",
       "        text-align: right;\n",
       "    }\n",
       "</style>\n",
       "<table border=\"1\" class=\"dataframe\">\n",
       "  <thead>\n",
       "    <tr style=\"text-align: right;\">\n",
       "      <th></th>\n",
       "      <th>Magnitude</th>\n",
       "      <th>Origin Time</th>\n",
       "      <th>Latitude</th>\n",
       "      <th>Longitude</th>\n",
       "      <th>Depth</th>\n",
       "    </tr>\n",
       "  </thead>\n",
       "  <tbody>\n",
       "    <tr>\n",
       "      <th>0</th>\n",
       "      <td>2.5</td>\n",
       "      <td>2021-07-31 09:43:23 IST</td>\n",
       "      <td>29.06</td>\n",
       "      <td>77.42</td>\n",
       "      <td>5.0</td>\n",
       "    </tr>\n",
       "    <tr>\n",
       "      <th>1</th>\n",
       "      <td>2.4</td>\n",
       "      <td>2021-07-30 23:04:57 IST</td>\n",
       "      <td>19.93</td>\n",
       "      <td>72.92</td>\n",
       "      <td>5.0</td>\n",
       "    </tr>\n",
       "    <tr>\n",
       "      <th>2</th>\n",
       "      <td>3.4</td>\n",
       "      <td>2021-07-30 21:31:10 IST</td>\n",
       "      <td>31.50</td>\n",
       "      <td>74.37</td>\n",
       "      <td>33.0</td>\n",
       "    </tr>\n",
       "    <tr>\n",
       "      <th>3</th>\n",
       "      <td>3.1</td>\n",
       "      <td>2021-07-30 13:56:31 IST</td>\n",
       "      <td>28.34</td>\n",
       "      <td>76.23</td>\n",
       "      <td>5.0</td>\n",
       "    </tr>\n",
       "    <tr>\n",
       "      <th>4</th>\n",
       "      <td>2.1</td>\n",
       "      <td>2021-07-30 07:19:38 IST</td>\n",
       "      <td>27.09</td>\n",
       "      <td>89.97</td>\n",
       "      <td>10.0</td>\n",
       "    </tr>\n",
       "  </tbody>\n",
       "</table>\n",
       "</div>"
      ],
      "text/plain": [
       "   Magnitude              Origin Time  Latitude  Longitude  Depth\n",
       "0        2.5  2021-07-31 09:43:23 IST     29.06      77.42    5.0\n",
       "1        2.4  2021-07-30 23:04:57 IST     19.93      72.92    5.0\n",
       "2        3.4  2021-07-30 21:31:10 IST     31.50      74.37   33.0\n",
       "3        3.1  2021-07-30 13:56:31 IST     28.34      76.23    5.0\n",
       "4        2.1  2021-07-30 07:19:38 IST     27.09      89.97   10.0"
      ]
     },
     "execution_count": 15,
     "metadata": {},
     "output_type": "execute_result"
    }
   ],
   "source": [
    "df.head()"
   ]
  },
  {
   "cell_type": "code",
   "execution_count": 16,
   "id": "e8d6d5cd",
   "metadata": {},
   "outputs": [
    {
     "data": {
      "text/html": [
       "<div>\n",
       "<style scoped>\n",
       "    .dataframe tbody tr th:only-of-type {\n",
       "        vertical-align: middle;\n",
       "    }\n",
       "\n",
       "    .dataframe tbody tr th {\n",
       "        vertical-align: top;\n",
       "    }\n",
       "\n",
       "    .dataframe thead th {\n",
       "        text-align: right;\n",
       "    }\n",
       "</style>\n",
       "<table border=\"1\" class=\"dataframe\">\n",
       "  <thead>\n",
       "    <tr style=\"text-align: right;\">\n",
       "      <th></th>\n",
       "      <th>Magnitude</th>\n",
       "      <th>Origin Time</th>\n",
       "      <th>Latitude</th>\n",
       "      <th>Longitude</th>\n",
       "      <th>Depth</th>\n",
       "    </tr>\n",
       "  </thead>\n",
       "  <tbody>\n",
       "    <tr>\n",
       "      <th>0</th>\n",
       "      <td>2.5</td>\n",
       "      <td>2021-07-31 09:43:23 IST</td>\n",
       "      <td>29.06</td>\n",
       "      <td>77.42</td>\n",
       "      <td>5.0</td>\n",
       "    </tr>\n",
       "    <tr>\n",
       "      <th>1</th>\n",
       "      <td>2.4</td>\n",
       "      <td>2021-07-30 23:04:57 IST</td>\n",
       "      <td>19.93</td>\n",
       "      <td>72.92</td>\n",
       "      <td>5.0</td>\n",
       "    </tr>\n",
       "    <tr>\n",
       "      <th>2</th>\n",
       "      <td>3.4</td>\n",
       "      <td>2021-07-30 21:31:10 IST</td>\n",
       "      <td>31.50</td>\n",
       "      <td>74.37</td>\n",
       "      <td>33.0</td>\n",
       "    </tr>\n",
       "    <tr>\n",
       "      <th>3</th>\n",
       "      <td>3.1</td>\n",
       "      <td>2021-07-30 13:56:31 IST</td>\n",
       "      <td>28.34</td>\n",
       "      <td>76.23</td>\n",
       "      <td>5.0</td>\n",
       "    </tr>\n",
       "    <tr>\n",
       "      <th>4</th>\n",
       "      <td>2.1</td>\n",
       "      <td>2021-07-30 07:19:38 IST</td>\n",
       "      <td>27.09</td>\n",
       "      <td>89.97</td>\n",
       "      <td>10.0</td>\n",
       "    </tr>\n",
       "    <tr>\n",
       "      <th>...</th>\n",
       "      <td>...</td>\n",
       "      <td>...</td>\n",
       "      <td>...</td>\n",
       "      <td>...</td>\n",
       "      <td>...</td>\n",
       "    </tr>\n",
       "    <tr>\n",
       "      <th>2714</th>\n",
       "      <td>4.8</td>\n",
       "      <td>2019-08-04 06:56:19 IST</td>\n",
       "      <td>12.30</td>\n",
       "      <td>94.80</td>\n",
       "      <td>10.0</td>\n",
       "    </tr>\n",
       "    <tr>\n",
       "      <th>2715</th>\n",
       "      <td>4.1</td>\n",
       "      <td>2019-08-04 05:40:33 IST</td>\n",
       "      <td>24.70</td>\n",
       "      <td>94.30</td>\n",
       "      <td>40.0</td>\n",
       "    </tr>\n",
       "    <tr>\n",
       "      <th>2716</th>\n",
       "      <td>3.6</td>\n",
       "      <td>2019-08-03 16:29:37 IST</td>\n",
       "      <td>22.50</td>\n",
       "      <td>88.10</td>\n",
       "      <td>10.0</td>\n",
       "    </tr>\n",
       "    <tr>\n",
       "      <th>2717</th>\n",
       "      <td>3.5</td>\n",
       "      <td>2019-08-03 01:59:11 IST</td>\n",
       "      <td>24.60</td>\n",
       "      <td>94.20</td>\n",
       "      <td>54.0</td>\n",
       "    </tr>\n",
       "    <tr>\n",
       "      <th>2718</th>\n",
       "      <td>4.6</td>\n",
       "      <td>2019-08-01 06:13:21 IST</td>\n",
       "      <td>14.50</td>\n",
       "      <td>92.90</td>\n",
       "      <td>10.0</td>\n",
       "    </tr>\n",
       "  </tbody>\n",
       "</table>\n",
       "<p>2719 rows × 5 columns</p>\n",
       "</div>"
      ],
      "text/plain": [
       "      Magnitude              Origin Time  Latitude  Longitude  Depth\n",
       "0           2.5  2021-07-31 09:43:23 IST     29.06      77.42    5.0\n",
       "1           2.4  2021-07-30 23:04:57 IST     19.93      72.92    5.0\n",
       "2           3.4  2021-07-30 21:31:10 IST     31.50      74.37   33.0\n",
       "3           3.1  2021-07-30 13:56:31 IST     28.34      76.23    5.0\n",
       "4           2.1  2021-07-30 07:19:38 IST     27.09      89.97   10.0\n",
       "...         ...                      ...       ...        ...    ...\n",
       "2714        4.8  2019-08-04 06:56:19 IST     12.30      94.80   10.0\n",
       "2715        4.1  2019-08-04 05:40:33 IST     24.70      94.30   40.0\n",
       "2716        3.6  2019-08-03 16:29:37 IST     22.50      88.10   10.0\n",
       "2717        3.5  2019-08-03 01:59:11 IST     24.60      94.20   54.0\n",
       "2718        4.6  2019-08-01 06:13:21 IST     14.50      92.90   10.0\n",
       "\n",
       "[2719 rows x 5 columns]"
      ]
     },
     "execution_count": 16,
     "metadata": {},
     "output_type": "execute_result"
    }
   ],
   "source": [
    "df"
   ]
  },
  {
   "cell_type": "code",
   "execution_count": 18,
   "id": "482e0c6f",
   "metadata": {},
   "outputs": [
    {
     "data": {
      "text/html": [
       "<div>\n",
       "<style scoped>\n",
       "    .dataframe tbody tr th:only-of-type {\n",
       "        vertical-align: middle;\n",
       "    }\n",
       "\n",
       "    .dataframe tbody tr th {\n",
       "        vertical-align: top;\n",
       "    }\n",
       "\n",
       "    .dataframe thead th {\n",
       "        text-align: right;\n",
       "    }\n",
       "</style>\n",
       "<table border=\"1\" class=\"dataframe\">\n",
       "  <thead>\n",
       "    <tr style=\"text-align: right;\">\n",
       "      <th></th>\n",
       "      <th>Magnitude</th>\n",
       "      <th>Origin Time</th>\n",
       "      <th>Latitude</th>\n",
       "      <th>Longitude</th>\n",
       "      <th>Depth</th>\n",
       "    </tr>\n",
       "  </thead>\n",
       "  <tbody>\n",
       "    <tr>\n",
       "      <th>0</th>\n",
       "      <td>2.5</td>\n",
       "      <td>2021-07-31 09:43:23 IST</td>\n",
       "      <td>29.06</td>\n",
       "      <td>77.42</td>\n",
       "      <td>5.0</td>\n",
       "    </tr>\n",
       "    <tr>\n",
       "      <th>1</th>\n",
       "      <td>2.4</td>\n",
       "      <td>2021-07-30 23:04:57 IST</td>\n",
       "      <td>19.93</td>\n",
       "      <td>72.92</td>\n",
       "      <td>5.0</td>\n",
       "    </tr>\n",
       "    <tr>\n",
       "      <th>2</th>\n",
       "      <td>3.4</td>\n",
       "      <td>2021-07-30 21:31:10 IST</td>\n",
       "      <td>31.50</td>\n",
       "      <td>74.37</td>\n",
       "      <td>33.0</td>\n",
       "    </tr>\n",
       "    <tr>\n",
       "      <th>3</th>\n",
       "      <td>3.1</td>\n",
       "      <td>2021-07-30 13:56:31 IST</td>\n",
       "      <td>28.34</td>\n",
       "      <td>76.23</td>\n",
       "      <td>5.0</td>\n",
       "    </tr>\n",
       "    <tr>\n",
       "      <th>4</th>\n",
       "      <td>2.1</td>\n",
       "      <td>2021-07-30 07:19:38 IST</td>\n",
       "      <td>27.09</td>\n",
       "      <td>89.97</td>\n",
       "      <td>10.0</td>\n",
       "    </tr>\n",
       "    <tr>\n",
       "      <th>...</th>\n",
       "      <td>...</td>\n",
       "      <td>...</td>\n",
       "      <td>...</td>\n",
       "      <td>...</td>\n",
       "      <td>...</td>\n",
       "    </tr>\n",
       "    <tr>\n",
       "      <th>2714</th>\n",
       "      <td>4.8</td>\n",
       "      <td>2019-08-04 06:56:19 IST</td>\n",
       "      <td>12.30</td>\n",
       "      <td>94.80</td>\n",
       "      <td>10.0</td>\n",
       "    </tr>\n",
       "    <tr>\n",
       "      <th>2715</th>\n",
       "      <td>4.1</td>\n",
       "      <td>2019-08-04 05:40:33 IST</td>\n",
       "      <td>24.70</td>\n",
       "      <td>94.30</td>\n",
       "      <td>40.0</td>\n",
       "    </tr>\n",
       "    <tr>\n",
       "      <th>2716</th>\n",
       "      <td>3.6</td>\n",
       "      <td>2019-08-03 16:29:37 IST</td>\n",
       "      <td>22.50</td>\n",
       "      <td>88.10</td>\n",
       "      <td>10.0</td>\n",
       "    </tr>\n",
       "    <tr>\n",
       "      <th>2717</th>\n",
       "      <td>3.5</td>\n",
       "      <td>2019-08-03 01:59:11 IST</td>\n",
       "      <td>24.60</td>\n",
       "      <td>94.20</td>\n",
       "      <td>54.0</td>\n",
       "    </tr>\n",
       "    <tr>\n",
       "      <th>2718</th>\n",
       "      <td>4.6</td>\n",
       "      <td>2019-08-01 06:13:21 IST</td>\n",
       "      <td>14.50</td>\n",
       "      <td>92.90</td>\n",
       "      <td>10.0</td>\n",
       "    </tr>\n",
       "  </tbody>\n",
       "</table>\n",
       "<p>2719 rows × 5 columns</p>\n",
       "</div>"
      ],
      "text/plain": [
       "      Magnitude              Origin Time  Latitude  Longitude  Depth\n",
       "0           2.5  2021-07-31 09:43:23 IST     29.06      77.42    5.0\n",
       "1           2.4  2021-07-30 23:04:57 IST     19.93      72.92    5.0\n",
       "2           3.4  2021-07-30 21:31:10 IST     31.50      74.37   33.0\n",
       "3           3.1  2021-07-30 13:56:31 IST     28.34      76.23    5.0\n",
       "4           2.1  2021-07-30 07:19:38 IST     27.09      89.97   10.0\n",
       "...         ...                      ...       ...        ...    ...\n",
       "2714        4.8  2019-08-04 06:56:19 IST     12.30      94.80   10.0\n",
       "2715        4.1  2019-08-04 05:40:33 IST     24.70      94.30   40.0\n",
       "2716        3.6  2019-08-03 16:29:37 IST     22.50      88.10   10.0\n",
       "2717        3.5  2019-08-03 01:59:11 IST     24.60      94.20   54.0\n",
       "2718        4.6  2019-08-01 06:13:21 IST     14.50      92.90   10.0\n",
       "\n",
       "[2719 rows x 5 columns]"
      ]
     },
     "execution_count": 18,
     "metadata": {},
     "output_type": "execute_result"
    }
   ],
   "source": [
    "df"
   ]
  },
  {
   "cell_type": "code",
   "execution_count": 19,
   "id": "a0e49df8",
   "metadata": {},
   "outputs": [],
   "source": [
    "df=df.drop(['Origin Time'],axis=1)"
   ]
  },
  {
   "cell_type": "code",
   "execution_count": 20,
   "id": "dbffd4fd",
   "metadata": {},
   "outputs": [
    {
     "data": {
      "text/html": [
       "<div>\n",
       "<style scoped>\n",
       "    .dataframe tbody tr th:only-of-type {\n",
       "        vertical-align: middle;\n",
       "    }\n",
       "\n",
       "    .dataframe tbody tr th {\n",
       "        vertical-align: top;\n",
       "    }\n",
       "\n",
       "    .dataframe thead th {\n",
       "        text-align: right;\n",
       "    }\n",
       "</style>\n",
       "<table border=\"1\" class=\"dataframe\">\n",
       "  <thead>\n",
       "    <tr style=\"text-align: right;\">\n",
       "      <th></th>\n",
       "      <th>Magnitude</th>\n",
       "      <th>Latitude</th>\n",
       "      <th>Longitude</th>\n",
       "      <th>Depth</th>\n",
       "    </tr>\n",
       "  </thead>\n",
       "  <tbody>\n",
       "    <tr>\n",
       "      <th>0</th>\n",
       "      <td>2.5</td>\n",
       "      <td>29.06</td>\n",
       "      <td>77.42</td>\n",
       "      <td>5.0</td>\n",
       "    </tr>\n",
       "    <tr>\n",
       "      <th>1</th>\n",
       "      <td>2.4</td>\n",
       "      <td>19.93</td>\n",
       "      <td>72.92</td>\n",
       "      <td>5.0</td>\n",
       "    </tr>\n",
       "    <tr>\n",
       "      <th>2</th>\n",
       "      <td>3.4</td>\n",
       "      <td>31.50</td>\n",
       "      <td>74.37</td>\n",
       "      <td>33.0</td>\n",
       "    </tr>\n",
       "    <tr>\n",
       "      <th>3</th>\n",
       "      <td>3.1</td>\n",
       "      <td>28.34</td>\n",
       "      <td>76.23</td>\n",
       "      <td>5.0</td>\n",
       "    </tr>\n",
       "    <tr>\n",
       "      <th>4</th>\n",
       "      <td>2.1</td>\n",
       "      <td>27.09</td>\n",
       "      <td>89.97</td>\n",
       "      <td>10.0</td>\n",
       "    </tr>\n",
       "    <tr>\n",
       "      <th>...</th>\n",
       "      <td>...</td>\n",
       "      <td>...</td>\n",
       "      <td>...</td>\n",
       "      <td>...</td>\n",
       "    </tr>\n",
       "    <tr>\n",
       "      <th>2714</th>\n",
       "      <td>4.8</td>\n",
       "      <td>12.30</td>\n",
       "      <td>94.80</td>\n",
       "      <td>10.0</td>\n",
       "    </tr>\n",
       "    <tr>\n",
       "      <th>2715</th>\n",
       "      <td>4.1</td>\n",
       "      <td>24.70</td>\n",
       "      <td>94.30</td>\n",
       "      <td>40.0</td>\n",
       "    </tr>\n",
       "    <tr>\n",
       "      <th>2716</th>\n",
       "      <td>3.6</td>\n",
       "      <td>22.50</td>\n",
       "      <td>88.10</td>\n",
       "      <td>10.0</td>\n",
       "    </tr>\n",
       "    <tr>\n",
       "      <th>2717</th>\n",
       "      <td>3.5</td>\n",
       "      <td>24.60</td>\n",
       "      <td>94.20</td>\n",
       "      <td>54.0</td>\n",
       "    </tr>\n",
       "    <tr>\n",
       "      <th>2718</th>\n",
       "      <td>4.6</td>\n",
       "      <td>14.50</td>\n",
       "      <td>92.90</td>\n",
       "      <td>10.0</td>\n",
       "    </tr>\n",
       "  </tbody>\n",
       "</table>\n",
       "<p>2719 rows × 4 columns</p>\n",
       "</div>"
      ],
      "text/plain": [
       "      Magnitude  Latitude  Longitude  Depth\n",
       "0           2.5     29.06      77.42    5.0\n",
       "1           2.4     19.93      72.92    5.0\n",
       "2           3.4     31.50      74.37   33.0\n",
       "3           3.1     28.34      76.23    5.0\n",
       "4           2.1     27.09      89.97   10.0\n",
       "...         ...       ...        ...    ...\n",
       "2714        4.8     12.30      94.80   10.0\n",
       "2715        4.1     24.70      94.30   40.0\n",
       "2716        3.6     22.50      88.10   10.0\n",
       "2717        3.5     24.60      94.20   54.0\n",
       "2718        4.6     14.50      92.90   10.0\n",
       "\n",
       "[2719 rows x 4 columns]"
      ]
     },
     "execution_count": 20,
     "metadata": {},
     "output_type": "execute_result"
    }
   ],
   "source": [
    "df"
   ]
  },
  {
   "cell_type": "code",
   "execution_count": 21,
   "id": "7f646cb1",
   "metadata": {},
   "outputs": [],
   "source": [
    " y = df.iloc[:,0].values"
   ]
  },
  {
   "cell_type": "code",
   "execution_count": 40,
   "id": "b46cda6c",
   "metadata": {},
   "outputs": [],
   "source": [
    " x = df.iloc[:,1:4].values"
   ]
  },
  {
   "cell_type": "code",
   "execution_count": 41,
   "id": "04b73a7e",
   "metadata": {},
   "outputs": [
    {
     "data": {
      "text/plain": [
       "array([[29.06, 77.42,  5.  ],\n",
       "       [19.93, 72.92,  5.  ],\n",
       "       [31.5 , 74.37, 33.  ],\n",
       "       ...,\n",
       "       [22.5 , 88.1 , 10.  ],\n",
       "       [24.6 , 94.2 , 54.  ],\n",
       "       [14.5 , 92.9 , 10.  ]])"
      ]
     },
     "execution_count": 41,
     "metadata": {},
     "output_type": "execute_result"
    }
   ],
   "source": [
    "x"
   ]
  },
  {
   "cell_type": "code",
   "execution_count": 42,
   "id": "bac21bb9",
   "metadata": {},
   "outputs": [
    {
     "data": {
      "text/plain": [
       "array([2.5, 2.4, 3.4, ..., 3.6, 3.5, 4.6])"
      ]
     },
     "execution_count": 42,
     "metadata": {},
     "output_type": "execute_result"
    }
   ],
   "source": [
    "y"
   ]
  },
  {
   "cell_type": "code",
   "execution_count": 43,
   "id": "47a1a8df",
   "metadata": {},
   "outputs": [],
   "source": [
    "from sklearn.model_selection import train_test_split\n",
    "x_train,x_test,y_train,y_test=train_test_split(x,y,test_size=0.20,random_state=42)"
   ]
  },
  {
   "cell_type": "code",
   "execution_count": 44,
   "id": "5ecc2244",
   "metadata": {},
   "outputs": [],
   "source": [
    "from sklearn.ensemble import RandomForestRegressor\n",
    "from sklearn.metrics import mean_squared_error,r2_score,accuracy_score"
   ]
  },
  {
   "cell_type": "code",
   "execution_count": 45,
   "id": "15b1f6b0",
   "metadata": {},
   "outputs": [
    {
     "data": {
      "text/html": [
       "<style>#sk-container-id-2 {color: black;background-color: white;}#sk-container-id-2 pre{padding: 0;}#sk-container-id-2 div.sk-toggleable {background-color: white;}#sk-container-id-2 label.sk-toggleable__label {cursor: pointer;display: block;width: 100%;margin-bottom: 0;padding: 0.3em;box-sizing: border-box;text-align: center;}#sk-container-id-2 label.sk-toggleable__label-arrow:before {content: \"▸\";float: left;margin-right: 0.25em;color: #696969;}#sk-container-id-2 label.sk-toggleable__label-arrow:hover:before {color: black;}#sk-container-id-2 div.sk-estimator:hover label.sk-toggleable__label-arrow:before {color: black;}#sk-container-id-2 div.sk-toggleable__content {max-height: 0;max-width: 0;overflow: hidden;text-align: left;background-color: #f0f8ff;}#sk-container-id-2 div.sk-toggleable__content pre {margin: 0.2em;color: black;border-radius: 0.25em;background-color: #f0f8ff;}#sk-container-id-2 input.sk-toggleable__control:checked~div.sk-toggleable__content {max-height: 200px;max-width: 100%;overflow: auto;}#sk-container-id-2 input.sk-toggleable__control:checked~label.sk-toggleable__label-arrow:before {content: \"▾\";}#sk-container-id-2 div.sk-estimator input.sk-toggleable__control:checked~label.sk-toggleable__label {background-color: #d4ebff;}#sk-container-id-2 div.sk-label input.sk-toggleable__control:checked~label.sk-toggleable__label {background-color: #d4ebff;}#sk-container-id-2 input.sk-hidden--visually {border: 0;clip: rect(1px 1px 1px 1px);clip: rect(1px, 1px, 1px, 1px);height: 1px;margin: -1px;overflow: hidden;padding: 0;position: absolute;width: 1px;}#sk-container-id-2 div.sk-estimator {font-family: monospace;background-color: #f0f8ff;border: 1px dotted black;border-radius: 0.25em;box-sizing: border-box;margin-bottom: 0.5em;}#sk-container-id-2 div.sk-estimator:hover {background-color: #d4ebff;}#sk-container-id-2 div.sk-parallel-item::after {content: \"\";width: 100%;border-bottom: 1px solid gray;flex-grow: 1;}#sk-container-id-2 div.sk-label:hover label.sk-toggleable__label {background-color: #d4ebff;}#sk-container-id-2 div.sk-serial::before {content: \"\";position: absolute;border-left: 1px solid gray;box-sizing: border-box;top: 0;bottom: 0;left: 50%;z-index: 0;}#sk-container-id-2 div.sk-serial {display: flex;flex-direction: column;align-items: center;background-color: white;padding-right: 0.2em;padding-left: 0.2em;position: relative;}#sk-container-id-2 div.sk-item {position: relative;z-index: 1;}#sk-container-id-2 div.sk-parallel {display: flex;align-items: stretch;justify-content: center;background-color: white;position: relative;}#sk-container-id-2 div.sk-item::before, #sk-container-id-2 div.sk-parallel-item::before {content: \"\";position: absolute;border-left: 1px solid gray;box-sizing: border-box;top: 0;bottom: 0;left: 50%;z-index: -1;}#sk-container-id-2 div.sk-parallel-item {display: flex;flex-direction: column;z-index: 1;position: relative;background-color: white;}#sk-container-id-2 div.sk-parallel-item:first-child::after {align-self: flex-end;width: 50%;}#sk-container-id-2 div.sk-parallel-item:last-child::after {align-self: flex-start;width: 50%;}#sk-container-id-2 div.sk-parallel-item:only-child::after {width: 0;}#sk-container-id-2 div.sk-dashed-wrapped {border: 1px dashed gray;margin: 0 0.4em 0.5em 0.4em;box-sizing: border-box;padding-bottom: 0.4em;background-color: white;}#sk-container-id-2 div.sk-label label {font-family: monospace;font-weight: bold;display: inline-block;line-height: 1.2em;}#sk-container-id-2 div.sk-label-container {text-align: center;}#sk-container-id-2 div.sk-container {/* jupyter's `normalize.less` sets `[hidden] { display: none; }` but bootstrap.min.css set `[hidden] { display: none !important; }` so we also need the `!important` here to be able to override the default hidden behavior on the sphinx rendered scikit-learn.org. See: https://github.com/scikit-learn/scikit-learn/issues/21755 */display: inline-block !important;position: relative;}#sk-container-id-2 div.sk-text-repr-fallback {display: none;}</style><div id=\"sk-container-id-2\" class=\"sk-top-container\"><div class=\"sk-text-repr-fallback\"><pre>RandomForestRegressor(random_state=42)</pre><b>In a Jupyter environment, please rerun this cell to show the HTML representation or trust the notebook. <br />On GitHub, the HTML representation is unable to render, please try loading this page with nbviewer.org.</b></div><div class=\"sk-container\" hidden><div class=\"sk-item\"><div class=\"sk-estimator sk-toggleable\"><input class=\"sk-toggleable__control sk-hidden--visually\" id=\"sk-estimator-id-2\" type=\"checkbox\" checked><label for=\"sk-estimator-id-2\" class=\"sk-toggleable__label sk-toggleable__label-arrow\">RandomForestRegressor</label><div class=\"sk-toggleable__content\"><pre>RandomForestRegressor(random_state=42)</pre></div></div></div></div></div>"
      ],
      "text/plain": [
       "RandomForestRegressor(random_state=42)"
      ]
     },
     "execution_count": 45,
     "metadata": {},
     "output_type": "execute_result"
    }
   ],
   "source": [
    "rf_model = RandomForestRegressor(n_estimators=100,random_state=42)\n",
    "rf_model.fit(x_train,y_train)"
   ]
  },
  {
   "cell_type": "code",
   "execution_count": 46,
   "id": "e28f34f3",
   "metadata": {},
   "outputs": [
    {
     "name": "stdout",
     "output_type": "stream",
     "text": [
      "Enter the values for the earthquake features:\n",
      "Magnitude: 5\n",
      "Depth: 2\n",
      "Latitude: 29.07\n",
      "Longitude: 77.07\n"
     ]
    }
   ],
   "source": [
    "# Take input from the user for earthquake prediction\n",
    "print(\"Enter the values for the earthquake features:\")\n",
    "magnitude = float(input(\"Magnitude: \"))\n",
    "depth = float(input(\"Depth: \"))\n",
    "latitude = float(input(\"Latitude: \"))\n",
    "longitude = float(input(\"Longitude: \"))"
   ]
  },
  {
   "cell_type": "code",
   "execution_count": 47,
   "id": "a1bcfabb",
   "metadata": {},
   "outputs": [],
   "source": [
    "# Create a DataFrame with the user input\n",
    "input_data = pd.DataFrame([[depth, latitude, longitude]])"
   ]
  },
  {
   "cell_type": "code",
   "execution_count": 48,
   "id": "e6883eac",
   "metadata": {},
   "outputs": [],
   "source": [
    "# Make prediction on the user input\n",
    "prediction = rf_model.predict(input_data)"
   ]
  },
  {
   "cell_type": "code",
   "execution_count": 49,
   "id": "c297e78b",
   "metadata": {},
   "outputs": [
    {
     "name": "stdout",
     "output_type": "stream",
     "text": [
      "No earthquake predicted.\n"
     ]
    }
   ],
   "source": [
    "# Display the prediction\n",
    "if prediction[0] == 1:\n",
    "    print(\"Earthquake predicted.\")\n",
    "else:\n",
    "    print(\"No earthquake predicted.\")"
   ]
  },
  {
   "cell_type": "code",
   "execution_count": 54,
   "id": "8a4c2902",
   "metadata": {},
   "outputs": [],
   "source": [
    "import pickle"
   ]
  },
  {
   "cell_type": "code",
   "execution_count": 55,
   "id": "eb2534fc",
   "metadata": {},
   "outputs": [],
   "source": [
    "with open('/Users/kumarmayank/Downloads/Earthquake_Time.ipynb', 'r') as file:\n",
    "    content = file.read()"
   ]
  },
  {
   "cell_type": "code",
   "execution_count": 57,
   "id": "e1bfab9c",
   "metadata": {},
   "outputs": [],
   "source": [
    "lines = content.split('\\n')\n",
    "with open('EarthQuake_Time.pkl', 'wb') as file:\n",
    "    pickle.dump(lines, file)"
   ]
  },
  {
   "cell_type": "code",
   "execution_count": null,
   "id": "89da18d4",
   "metadata": {},
   "outputs": [],
   "source": []
  }
 ],
 "metadata": {
  "kernelspec": {
   "display_name": "Python 3.10 (tensorflow)",
   "language": "python",
   "name": "tensorflow"
  },
  "language_info": {
   "codemirror_mode": {
    "name": "ipython",
    "version": 3
   },
   "file_extension": ".py",
   "mimetype": "text/x-python",
   "name": "python",
   "nbconvert_exporter": "python",
   "pygments_lexer": "ipython3",
   "version": "3.10.10"
  }
 },
 "nbformat": 4,
 "nbformat_minor": 5
}
